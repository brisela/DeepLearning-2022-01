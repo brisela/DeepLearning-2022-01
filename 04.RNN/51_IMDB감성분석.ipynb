{
  "nbformat": 4,
  "nbformat_minor": 0,
  "metadata": {
    "colab": {
      "name": "51_IMDB감성분석.ipynb",
      "provenance": []
    },
    "kernelspec": {
      "name": "python3",
      "display_name": "Python 3"
    },
    "language_info": {
      "name": "python"
    },
    "accelerator": "GPU"
  },
  "cells": [
    {
      "cell_type": "markdown",
      "source": [
        "# IMDB 영화 리뷰 감성 분석 - LSTM"
      ],
      "metadata": {
        "id": "Tecnx3bl9zNf"
      }
    },
    {
      "cell_type": "code",
      "source": [
        "import numpy as np\n",
        "import matplotlib.pyplot as plt\n",
        "from tensorflow.keras.datasets import imdb\n",
        "import warnings\n",
        "warnings.filterwarnings('ignore')"
      ],
      "metadata": {
        "id": "2xFagpzR97FO"
      },
      "execution_count": 1,
      "outputs": []
    },
    {
      "cell_type": "code",
      "source": [
        "(X_train, y_train), (X_test, y_test) = imdb.load_data()\n",
        "X_train.shape, X_test.shape, y_train.shape"
      ],
      "metadata": {
        "colab": {
          "base_uri": "https://localhost:8080/"
        },
        "id": "E9GHpeDy-Ix8",
        "outputId": "3b8e54e8-5a0c-4e8e-e435-9dd14bfdd14a"
      },
      "execution_count": 2,
      "outputs": [
        {
          "output_type": "stream",
          "name": "stdout",
          "text": [
            "Downloading data from https://storage.googleapis.com/tensorflow/tf-keras-datasets/imdb.npz\n",
            "17465344/17464789 [==============================] - 0s 0us/step\n",
            "17473536/17464789 [==============================] - 0s 0us/step\n"
          ]
        },
        {
          "output_type": "execute_result",
          "data": {
            "text/plain": [
              "((25000,), (25000,), (25000,))"
            ]
          },
          "metadata": {},
          "execution_count": 2
        }
      ]
    },
    {
      "cell_type": "code",
      "source": [
        "print('등장한 단어 수 : ', len(imdb.get_word_index()))\n",
        "print('리뷰 최대 길이 : ', max(len(s) for s in X_train))\n",
        "print('리뷰 평균 길이 : ', sum(map(len, X_train)) / len(X_train))"
      ],
      "metadata": {
        "colab": {
          "base_uri": "https://localhost:8080/"
        },
        "id": "iwpbheXC-YJc",
        "outputId": "85b01411-96d7-4fa0-b7a8-e0245da825c8"
      },
      "execution_count": 3,
      "outputs": [
        {
          "output_type": "stream",
          "name": "stdout",
          "text": [
            "Downloading data from https://storage.googleapis.com/tensorflow/tf-keras-datasets/imdb_word_index.json\n",
            "1646592/1641221 [==============================] - 0s 0us/step\n",
            "1654784/1641221 [==============================] - 0s 0us/step\n",
            "등장한 단어 수 :  88584\n",
            "리뷰 최대 길이 :  2494\n",
            "리뷰 평균 길이 :  238.71364\n"
          ]
        }
      ]
    },
    {
      "cell_type": "markdown",
      "source": [
        "### LSTM으로 IMDB 리뷰 감성 분석\n",
        "- 단어 빈도수 : 10,000 (88,584)\n",
        "- 문장의 단어수 : 500 (249)\n",
        "- test data 중 40%(10,000)개는 검증용\n"
      ],
      "metadata": {
        "id": "kI4PkKDa_b2t"
      }
    },
    {
      "cell_type": "code",
      "source": [
        "import tensorflow as tf\n",
        "seed = 2022\n",
        "np.random.seed(seed)\n",
        "tf.random.set_seed(seed)\n",
        "\n",
        "num_words = 10000\n",
        "max_len = 500"
      ],
      "metadata": {
        "id": "LVzxtMZnAV-i"
      },
      "execution_count": 4,
      "outputs": []
    },
    {
      "cell_type": "code",
      "source": [
        "from tensorflow.keras.preprocessing.sequence import pad_sequences\n",
        "from tensorflow.keras.models import Sequential, load_model\n",
        "from tensorflow.keras.layers import Dense, LSTM, Embedding\n",
        "from tensorflow.keras.callbacks import EarlyStopping, ModelCheckpoint"
      ],
      "metadata": {
        "id": "tFJqPAp8BMoJ"
      },
      "execution_count": 5,
      "outputs": []
    },
    {
      "cell_type": "code",
      "source": [
        "(X_train, y_train), (X_test, y_test) = imdb.load_data(num_words=num_words)\n",
        "X_train.shape, X_test.shape, y_train.shape"
      ],
      "metadata": {
        "colab": {
          "base_uri": "https://localhost:8080/"
        },
        "id": "2ar6fw6IBRio",
        "outputId": "d0da901f-f1e4-4098-ca59-dd0554caa6ae"
      },
      "execution_count": 6,
      "outputs": [
        {
          "output_type": "execute_result",
          "data": {
            "text/plain": [
              "((25000,), (25000,), (25000,))"
            ]
          },
          "metadata": {},
          "execution_count": 6
        }
      ]
    },
    {
      "cell_type": "code",
      "source": [
        "X_train = pad_sequences(X_train, maxlen=max_len)\n",
        "X_test = pad_sequences(X_test, maxlen=max_len)\n",
        "X_train.shape, X_test.shape"
      ],
      "metadata": {
        "colab": {
          "base_uri": "https://localhost:8080/"
        },
        "id": "_78-73kkBjWI",
        "outputId": "e2afc07c-96f0-461a-8ce5-e59af4a4b4c7"
      },
      "execution_count": 7,
      "outputs": [
        {
          "output_type": "execute_result",
          "data": {
            "text/plain": [
              "((25000, 500), (25000, 500))"
            ]
          },
          "metadata": {},
          "execution_count": 7
        }
      ]
    },
    {
      "cell_type": "code",
      "source": [
        "from sklearn.model_selection import train_test_split\n",
        "\n",
        "X_test, X_valid, y_test, y_valid = train_test_split(\n",
        "    X_test, y_test, stratify=y_test, test_size=0.4, random_state=seed\n",
        ")\n",
        "X_test.shape, X_valid.shape, y_test.shape, y_valid.shape"
      ],
      "metadata": {
        "colab": {
          "base_uri": "https://localhost:8080/"
        },
        "id": "IGy5dXDjC__S",
        "outputId": "af8d4e75-d44a-4406-f72f-d5e9b497f6a5"
      },
      "execution_count": 8,
      "outputs": [
        {
          "output_type": "execute_result",
          "data": {
            "text/plain": [
              "((15000, 500), (10000, 500), (15000,), (10000,))"
            ]
          },
          "metadata": {},
          "execution_count": 8
        }
      ]
    },
    {
      "cell_type": "markdown",
      "source": [
        "- case 1) LSTM\n",
        "  - embedding dim = 100\n",
        "  - hidden units = 128"
      ],
      "metadata": {
        "id": "xXm2uxoWBtmu"
      }
    },
    {
      "cell_type": "code",
      "source": [
        "embedding_dim = 100\n",
        "hidden_units = 128"
      ],
      "metadata": {
        "id": "oVSzjvxcCDJ9"
      },
      "execution_count": 9,
      "outputs": []
    },
    {
      "cell_type": "code",
      "source": [
        "model1 = Sequential([\n",
        "                     Embedding(num_words, embedding_dim, input_length=max_len),\n",
        "                     LSTM(hidden_units),\n",
        "                     Dense(1, activation='sigmoid')\n",
        "])\n",
        "model1.summary()"
      ],
      "metadata": {
        "colab": {
          "base_uri": "https://localhost:8080/"
        },
        "id": "hTsiA54FB2ZF",
        "outputId": "ef8e27a8-7cd0-4775-feac-86d51fc7ec06"
      },
      "execution_count": 10,
      "outputs": [
        {
          "output_type": "stream",
          "name": "stdout",
          "text": [
            "Model: \"sequential\"\n",
            "_________________________________________________________________\n",
            " Layer (type)                Output Shape              Param #   \n",
            "=================================================================\n",
            " embedding (Embedding)       (None, 500, 100)          1000000   \n",
            "                                                                 \n",
            " lstm (LSTM)                 (None, 128)               117248    \n",
            "                                                                 \n",
            " dense (Dense)               (None, 1)                 129       \n",
            "                                                                 \n",
            "=================================================================\n",
            "Total params: 1,117,377\n",
            "Trainable params: 1,117,377\n",
            "Non-trainable params: 0\n",
            "_________________________________________________________________\n"
          ]
        }
      ]
    },
    {
      "cell_type": "code",
      "source": [
        "model1.compile('adam', 'binary_crossentropy', ['accuracy'])\n",
        "\n",
        "model_path = 'best-imdb-lstm.h5'\n",
        "mc = ModelCheckpoint(model_path, save_best_only=True, verbose=1)\n",
        "es = EarlyStopping(patience=5)"
      ],
      "metadata": {
        "id": "tYeSPyZCCaN0"
      },
      "execution_count": 11,
      "outputs": []
    },
    {
      "cell_type": "code",
      "source": [
        "hist1 = model1.fit(\n",
        "    X_train, y_train, epochs=30, batch_size=64, \n",
        "    validation_data=[X_valid, y_valid],\n",
        "    callbacks=[mc,es]\n",
        ")"
      ],
      "metadata": {
        "colab": {
          "base_uri": "https://localhost:8080/"
        },
        "id": "i1Z9upP1DslV",
        "outputId": "53782532-b6a0-45b8-fec7-dc509ed1c451"
      },
      "execution_count": 12,
      "outputs": [
        {
          "output_type": "stream",
          "name": "stdout",
          "text": [
            "Epoch 1/30\n",
            "391/391 [==============================] - ETA: 0s - loss: 0.5120 - accuracy: 0.7392\n",
            "Epoch 00001: val_loss improved from inf to 0.38394, saving model to best-imdb-lstm.h5\n",
            "391/391 [==============================] - 18s 34ms/step - loss: 0.5120 - accuracy: 0.7392 - val_loss: 0.3839 - val_accuracy: 0.8438\n",
            "Epoch 2/30\n",
            "391/391 [==============================] - ETA: 0s - loss: 0.3699 - accuracy: 0.8487\n",
            "Epoch 00002: val_loss improved from 0.38394 to 0.36891, saving model to best-imdb-lstm.h5\n",
            "391/391 [==============================] - 13s 32ms/step - loss: 0.3699 - accuracy: 0.8487 - val_loss: 0.3689 - val_accuracy: 0.8458\n",
            "Epoch 3/30\n",
            "391/391 [==============================] - ETA: 0s - loss: 0.2407 - accuracy: 0.9065\n",
            "Epoch 00003: val_loss improved from 0.36891 to 0.33342, saving model to best-imdb-lstm.h5\n",
            "391/391 [==============================] - 12s 32ms/step - loss: 0.2407 - accuracy: 0.9065 - val_loss: 0.3334 - val_accuracy: 0.8586\n",
            "Epoch 4/30\n",
            "391/391 [==============================] - ETA: 0s - loss: 0.1803 - accuracy: 0.9326\n",
            "Epoch 00004: val_loss did not improve from 0.33342\n",
            "391/391 [==============================] - 12s 32ms/step - loss: 0.1803 - accuracy: 0.9326 - val_loss: 0.3433 - val_accuracy: 0.8581\n",
            "Epoch 5/30\n",
            "390/391 [============================>.] - ETA: 0s - loss: 0.1549 - accuracy: 0.9444\n",
            "Epoch 00005: val_loss did not improve from 0.33342\n",
            "391/391 [==============================] - 14s 36ms/step - loss: 0.1549 - accuracy: 0.9444 - val_loss: 0.3630 - val_accuracy: 0.8622\n",
            "Epoch 6/30\n",
            "391/391 [==============================] - ETA: 0s - loss: 0.1289 - accuracy: 0.9537\n",
            "Epoch 00006: val_loss did not improve from 0.33342\n",
            "391/391 [==============================] - 13s 32ms/step - loss: 0.1289 - accuracy: 0.9537 - val_loss: 0.4265 - val_accuracy: 0.8585\n",
            "Epoch 7/30\n",
            "391/391 [==============================] - ETA: 0s - loss: 0.0896 - accuracy: 0.9704\n",
            "Epoch 00007: val_loss did not improve from 0.33342\n",
            "391/391 [==============================] - 12s 32ms/step - loss: 0.0896 - accuracy: 0.9704 - val_loss: 0.4500 - val_accuracy: 0.8584\n",
            "Epoch 8/30\n",
            "391/391 [==============================] - ETA: 0s - loss: 0.0793 - accuracy: 0.9730\n",
            "Epoch 00008: val_loss did not improve from 0.33342\n",
            "391/391 [==============================] - 13s 32ms/step - loss: 0.0793 - accuracy: 0.9730 - val_loss: 0.4890 - val_accuracy: 0.8527\n"
          ]
        }
      ]
    },
    {
      "cell_type": "code",
      "source": [
        "best_model = load_model(model_path)\n",
        "best_model.evaluate(X_test, y_test)"
      ],
      "metadata": {
        "id": "bYky9xArD87G",
        "colab": {
          "base_uri": "https://localhost:8080/"
        },
        "outputId": "ad45da91-4842-4eb5-f6e9-92c27a0181c4"
      },
      "execution_count": 13,
      "outputs": [
        {
          "output_type": "stream",
          "name": "stdout",
          "text": [
            "469/469 [==============================] - 5s 11ms/step - loss: 0.3299 - accuracy: 0.8610\n"
          ]
        },
        {
          "output_type": "execute_result",
          "data": {
            "text/plain": [
              "[0.32989606261253357, 0.8610000014305115]"
            ]
          },
          "metadata": {},
          "execution_count": 13
        }
      ]
    }
  ]
}