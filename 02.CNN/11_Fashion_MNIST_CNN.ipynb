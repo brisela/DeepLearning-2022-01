{
  "nbformat": 4,
  "nbformat_minor": 0,
  "metadata": {
    "colab": {
      "name": "11.Fashion-MNIST-CNN.ipynb",
      "provenance": []
    },
    "kernelspec": {
      "name": "python3",
      "display_name": "Python 3"
    },
    "language_info": {
      "name": "python"
    },
    "accelerator": "GPU"
  },
  "cells": [
    {
      "cell_type": "markdown",
      "source": [
        "# Fashion MNist - CNN\n",
        "- 32 Conv2d layer\n",
        "- 64 Conv2d layer\n",
        "- MaxPooling2D layer\n",
        "- Dropout(0.25)\n",
        "- Flatten\n",
        "- Fully Connected Network(512) layer\n",
        "- Dropout(0.5)\n",
        "- Output(10)"
      ],
      "metadata": {
        "id": "IKZkgh-J5m-v"
      }
    },
    {
      "cell_type": "code",
      "source": [
        "import numpy as np\n",
        "import tensorflow as tf\n",
        "seed = 2022\n",
        "np.random.seed(seed)\n",
        "tf.random.set_seed(seed)"
      ],
      "metadata": {
        "id": "nny7xrsQ7CsX"
      },
      "execution_count": 1,
      "outputs": []
    },
    {
      "cell_type": "markdown",
      "source": [
        "- 데이터 전처리"
      ],
      "metadata": {
        "id": "LLvfp5_77Ugm"
      }
    },
    {
      "cell_type": "code",
      "source": [
        "from tensorflow.keras.datasets import fashion_mnist\n",
        "(X_train, y_train), (X_test, y_test) = fashion_mnist.load_data()"
      ],
      "metadata": {
        "colab": {
          "base_uri": "https://localhost:8080/"
        },
        "id": "pPCnWik77Wiq",
        "outputId": "d1ea59f0-e7fe-4bf0-93a9-c8d58cec7a3d"
      },
      "execution_count": 2,
      "outputs": [
        {
          "output_type": "stream",
          "name": "stdout",
          "text": [
            "Downloading data from https://storage.googleapis.com/tensorflow/tf-keras-datasets/train-labels-idx1-ubyte.gz\n",
            "32768/29515 [=================================] - 0s 0us/step\n",
            "40960/29515 [=========================================] - 0s 0us/step\n",
            "Downloading data from https://storage.googleapis.com/tensorflow/tf-keras-datasets/train-images-idx3-ubyte.gz\n",
            "26427392/26421880 [==============================] - 0s 0us/step\n",
            "26435584/26421880 [==============================] - 0s 0us/step\n",
            "Downloading data from https://storage.googleapis.com/tensorflow/tf-keras-datasets/t10k-labels-idx1-ubyte.gz\n",
            "16384/5148 [===============================================================================================] - 0s 0us/step\n",
            "Downloading data from https://storage.googleapis.com/tensorflow/tf-keras-datasets/t10k-images-idx3-ubyte.gz\n",
            "4423680/4422102 [==============================] - 0s 0us/step\n",
            "4431872/4422102 [==============================] - 0s 0us/step\n"
          ]
        }
      ]
    },
    {
      "cell_type": "code",
      "source": [
        "import matplotlib.pyplot as plt\n",
        "\n",
        "plt.imshow(X_train[0], cmap='Greys')"
      ],
      "metadata": {
        "colab": {
          "base_uri": "https://localhost:8080/",
          "height": 283
        },
        "id": "8o5wQ9BW7jhZ",
        "outputId": "ef0e19dd-f01c-4356-973b-8acc9b7199f5"
      },
      "execution_count": 3,
      "outputs": [
        {
          "output_type": "execute_result",
          "data": {
            "text/plain": [
              "<matplotlib.image.AxesImage at 0x7f3197eb5890>"
            ]
          },
          "metadata": {},
          "execution_count": 3
        },
        {
          "output_type": "display_data",
          "data": {
            "image/png": "[encoded data removed]",
            "text/plain": [
              "<Figure size 432x288 with 1 Axes>"
            ]
          },
          "metadata": {
            "needs_background": "light"
          }
        }
      ]
    },
    {
      "cell_type": "code",
      "source": [
        "class_names = ['T-shirt/top', 'Trouser', 'Pullover', 'Dress', 'Coat',\n",
        "               'Sandal', 'Shirt', 'Sneaker', 'Bag', 'Ankle boot']\n",
        "class_names[y_train[0]]"
      ],
      "metadata": {
        "colab": {
          "base_uri": "https://localhost:8080/",
          "height": 35
        },
        "id": "QBKnn4Ub8M69",
        "outputId": "35f123d5-0e29-4cb4-8858-40c738e78fdd"
      },
      "execution_count": 4,
      "outputs": [
        {
          "output_type": "execute_result",
          "data": {
            "application/vnd.google.colaboratory.intrinsic+json": {
              "type": "string"
            },
            "text/plain": [
              "'Ankle boot'"
            ]
          },
          "metadata": {},
          "execution_count": 4
        }
      ]
    },
    {
      "cell_type": "code",
      "source": [
        "plt.figure(figsize=(14,5))\n",
        "for i in range(10):\n",
        "  plt.subplot(2, 5, i+1)\n",
        "  plt.imshow(X_train[i], cmap='Greys')\n",
        "  plt.title(class_names[y_train[i]])\n",
        "  plt.xticks([]); plt.yticks([])\n",
        "plt.show()"
      ],
      "metadata": {
        "colab": {
          "base_uri": "https://localhost:8080/",
          "height": 322
        },
        "id": "tM6YWR-X8tBM",
        "outputId": "ce9400b8-bb22-4630-af40-4b1564561e8d"
      },
      "execution_count": 5,
      "outputs": [
        {
          "output_type": "display_data",
          "data": {
            "image/png": "[encoded data removed]",
            "text/plain": [
              "<Figure size 1008x360 with 10 Axes>"
            ]
          },
          "metadata": {}
        }
      ]
    },
    {
      "cell_type": "code",
      "source": [
        "X_train.shape, X_test.shape"
      ],
      "metadata": {
        "colab": {
          "base_uri": "https://localhost:8080/"
        },
        "id": "chRnUHfk9DgL",
        "outputId": "19965dca-4928-4539-e01b-a3b4dba9c415"
      },
      "execution_count": 6,
      "outputs": [
        {
          "output_type": "execute_result",
          "data": {
            "text/plain": [
              "((60000, 28, 28), (10000, 28, 28))"
            ]
          },
          "metadata": {},
          "execution_count": 6
        }
      ]
    },
    {
      "cell_type": "code",
      "source": [
        "# X data 정규화 및 차원 변경\n",
        "X_train = X_train.reshape(-1, 28, 28, 1) /255.\n",
        "X_test = X_test.reshape(-1, 28, 28, 1) /255."
      ],
      "metadata": {
        "id": "n2piAKei9kZw"
      },
      "execution_count": 7,
      "outputs": []
    },
    {
      "cell_type": "code",
      "source": [
        "# y data : One hot Encoding\n",
        "from tensorflow.keras.utils import to_categorical\n",
        "Y_train = to_categorical(y_train)\n",
        "Y_test = to_categorical(y_test)"
      ],
      "metadata": {
        "id": "XhCT--Zb-ZQu"
      },
      "execution_count": 8,
      "outputs": []
    },
    {
      "cell_type": "markdown",
      "source": [
        "- 모델 정의.설정.학습,평가\n"
      ],
      "metadata": {
        "id": "6-uxo_g2-s90"
      }
    },
    {
      "cell_type": "code",
      "source": [
        "from tensorflow.keras.models import Sequential, load_model\n",
        "from tensorflow.keras.layers import Dense, Conv2D, MaxPooling2D, Flatten, Dropout\n",
        "from tensorflow.keras.callbacks import ModelCheckpoint, EarlyStopping"
      ],
      "metadata": {
        "id": "cngfYiut_HRy"
      },
      "execution_count": 9,
      "outputs": []
    },
    {
      "cell_type": "code",
      "source": [
        "model = Sequential([\n",
        "    Conv2D(32, (3,3), input_shape=(28,28,1), activation='relu'),\n",
        "    Conv2D(64, (3,3), activation='relu'),\n",
        "    MaxPooling2D(),\n",
        "    Dropout(0.25),\n",
        "    Flatten(),\n",
        "    Dense(512, activation='relu'),\n",
        "    Dropout(0.5),\n",
        "    Dense(10, activation='softmax')\n",
        "])\n",
        "model.summary()"
      ],
      "metadata": {
        "colab": {
          "base_uri": "https://localhost:8080/"
        },
        "id": "YILmxWsi_YZC",
        "outputId": "ebac094f-15d7-4e05-9210-93a3b356ee83"
      },
      "execution_count": 10,
      "outputs": [
        {
          "output_type": "stream",
          "name": "stdout",
          "text": [
            "Model: \"sequential\"\n",
            "_________________________________________________________________\n",
            " Layer (type)                Output Shape              Param #   \n",
            "=================================================================\n",
            " conv2d (Conv2D)             (None, 26, 26, 32)        320       \n",
            "                                                                 \n",
            " conv2d_1 (Conv2D)           (None, 24, 24, 64)        18496     \n",
            "                                                                 \n",
            " max_pooling2d (MaxPooling2D  (None, 12, 12, 64)       0         \n",
            " )                                                               \n",
            "                                                                 \n",
            " dropout (Dropout)           (None, 12, 12, 64)        0         \n",
            "                                                                 \n",
            " flatten (Flatten)           (None, 9216)              0         \n",
            "                                                                 \n",
            " dense (Dense)               (None, 512)               4719104   \n",
            "                                                                 \n",
            " dropout_1 (Dropout)         (None, 512)               0         \n",
            "                                                                 \n",
            " dense_1 (Dense)             (None, 10)                5130      \n",
            "                                                                 \n",
            "=================================================================\n",
            "Total params: 4,743,050\n",
            "Trainable params: 4,743,050\n",
            "Non-trainable params: 0\n",
            "_________________________________________________________________\n"
          ]
        }
      ]
    },
    {
      "cell_type": "code",
      "source": [
        "model.compile(optimizer='adam', loss='categorical_crossentropy', metrics=['accuracy'])"
      ],
      "metadata": {
        "id": "GfznT90VAQ1V"
      },
      "execution_count": 11,
      "outputs": []
    },
    {
      "cell_type": "code",
      "source": [
        "model_path ='best-fashion-mnist-cnn.h5'\n",
        "checkpoint = ModelCheckpoint(model_path, save_best_only=True, verbose=1)\n",
        "early_stop = EarlyStopping(patience=10)"
      ],
      "metadata": {
        "id": "EeO0L1bfBBPc"
      },
      "execution_count": 12,
      "outputs": []
    },
    {
      "cell_type": "code",
      "source": [
        "hist = model.fit(\n",
        "    X_train, Y_train, validation_split=0.2, batch_size=200, epochs=100, callbacks=[checkpoint,early_stop], verbose=0\n",
        ")"
      ],
      "metadata": {
        "colab": {
          "base_uri": "https://localhost:8080/"
        },
        "id": "yRAkgGHhBe_C",
        "outputId": "49574bdb-7a97-4cbd-cf9a-4a5b837b5ab9"
      },
      "execution_count": 13,
      "outputs": [
        {
          "output_type": "stream",
          "name": "stdout",
          "text": [
            "\n",
            "Epoch 00001: val_loss improved from inf to 0.32474, saving model to best-fashion-mnist-cnn.h5\n",
            "\n",
            "Epoch 00002: val_loss improved from 0.32474 to 0.27392, saving model to best-fashion-mnist-cnn.h5\n",
            "\n",
            "Epoch 00003: val_loss improved from 0.27392 to 0.23930, saving model to best-fashion-mnist-cnn.h5\n",
            "\n",
            "Epoch 00004: val_loss improved from 0.23930 to 0.23128, saving model to best-fashion-mnist-cnn.h5\n",
            "\n",
            "Epoch 00005: val_loss improved from 0.23128 to 0.22982, saving model to best-fashion-mnist-cnn.h5\n",
            "\n",
            "Epoch 00006: val_loss improved from 0.22982 to 0.21033, saving model to best-fashion-mnist-cnn.h5\n",
            "\n",
            "Epoch 00007: val_loss improved from 0.21033 to 0.20670, saving model to best-fashion-mnist-cnn.h5\n",
            "\n",
            "Epoch 00008: val_loss improved from 0.20670 to 0.20429, saving model to best-fashion-mnist-cnn.h5\n",
            "\n",
            "Epoch 00009: val_loss improved from 0.20429 to 0.20077, saving model to best-fashion-mnist-cnn.h5\n",
            "\n",
            "Epoch 00010: val_loss did not improve from 0.20077\n",
            "\n",
            "Epoch 00011: val_loss did not improve from 0.20077\n",
            "\n",
            "Epoch 00012: val_loss did not improve from 0.20077\n",
            "\n",
            "Epoch 00013: val_loss did not improve from 0.20077\n",
            "\n",
            "Epoch 00014: val_loss did not improve from 0.20077\n",
            "\n",
            "Epoch 00015: val_loss did not improve from 0.20077\n",
            "\n",
            "Epoch 00016: val_loss did not improve from 0.20077\n",
            "\n",
            "Epoch 00017: val_loss did not improve from 0.20077\n",
            "\n",
            "Epoch 00018: val_loss did not improve from 0.20077\n",
            "\n",
            "Epoch 00019: val_loss did not improve from 0.20077\n"
          ]
        }
      ]
    },
    {
      "cell_type": "code",
      "source": [
        "best_model = load_model(model_path)\n",
        "best_model.evaluate(X_test, Y_test)"
      ],
      "metadata": {
        "colab": {
          "base_uri": "https://localhost:8080/"
        },
        "id": "WzDPxOMSCphH",
        "outputId": "252c5cc0-64ed-4d33-c5ae-69dc18bf06d9"
      },
      "execution_count": 14,
      "outputs": [
        {
          "output_type": "stream",
          "name": "stdout",
          "text": [
            "313/313 [==============================] - 1s 3ms/step - loss: 0.2158 - accuracy: 0.9255\n"
          ]
        },
        {
          "output_type": "execute_result",
          "data": {
            "text/plain": [
              "[0.21576762199401855, 0.9254999756813049]"
            ]
          },
          "metadata": {},
          "execution_count": 14
        }
      ]
    },
    {
      "cell_type": "code",
      "source": [
        "y_acc = hist.history['accuracy']\n",
        "y_vloss = hist.history['val_loss']\n",
        "xs = np.arange(1,len(y_acc)+1)"
      ],
      "metadata": {
        "id": "QIi2lM26Cv51"
      },
      "execution_count": 17,
      "outputs": []
    },
    {
      "cell_type": "code",
      "source": [
        "plt.figure(figsize=(12,8))\n",
        "plt.plot(xs, y_acc, 'o-', ms=3, label='train accuracy')\n",
        "plt.plot(xs, y_vloss, 'o-', ms=3, label='validation loss')\n",
        "plt.legend()\n",
        "plt.grid()\n",
        "plt.xlabel('Epoch')\n",
        "plt.show()"
      ],
      "metadata": {
        "colab": {
          "base_uri": "https://localhost:8080/",
          "height": 497
        },
        "id": "GM2tZXDkDaCk",
        "outputId": "f9064b4e-394d-41c6-a54a-180b7199dfee"
      },
      "execution_count": 18,
      "outputs": [
        {
          "output_type": "display_data",
          "data": {
            "image/png": "[encoded data removed]",
            "text/plain": [
              "<Figure size 864x576 with 1 Axes>"
            ]
          },
          "metadata": {
            "needs_background": "light"
          }
        }
      ]
    },
    {
      "cell_type": "code",
      "source": [
        ""
      ],
      "metadata": {
        "id": "5ad30FBXDSRE"
      },
      "execution_count": null,
      "outputs": []
    }
  ]
}