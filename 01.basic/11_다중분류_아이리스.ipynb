{
  "nbformat": 4,
  "nbformat_minor": 0,
  "metadata": {
    "colab": {
      "name": "11.다중분류-아이리스.ipynb",
      "provenance": []
    },
    "kernelspec": {
      "name": "python3",
      "display_name": "Python 3"
    },
    "language_info": {
      "name": "python"
    }
  },
  "cells": [
    {
      "cell_type": "markdown",
      "source": [
        "### 다중분류 - 아이리스 품종 분류"
      ],
      "metadata": {
        "id": "lBFjD9v_js8q"
      }
    },
    {
      "cell_type": "code",
      "source": [
        "import numpy as np\n",
        "import pandas as pd\n",
        "import tensorflow as tf\n",
        "seed = 2022\n",
        "np.random.seed(seed)\n",
        "tf.random.set_seed(seed)"
      ],
      "metadata": {
        "id": "P1w4-pn6j1s1"
      },
      "execution_count": 1,
      "outputs": []
    },
    {
      "cell_type": "markdown",
      "source": [
        "- 데이터 전처리"
      ],
      "metadata": {
        "id": "N7c8KPL2kAqE"
      }
    },
    {
      "cell_type": "code",
      "source": [
        "from sklearn.datasets import load_iris\n",
        "iris = load_iris()"
      ],
      "metadata": {
        "id": "5qW-HpFikC92"
      },
      "execution_count": 2,
      "outputs": []
    },
    {
      "cell_type": "code",
      "source": [
        "# X data는 정규화\n",
        "from sklearn.preprocessing import StandardScaler\n",
        "X_scaled = StandardScaler().fit_transform(iris.data)\n",
        "X_scaled.shape"
      ],
      "metadata": {
        "colab": {
          "base_uri": "https://localhost:8080/"
        },
        "id": "k2KnXUVKkHvt",
        "outputId": "7595d4f2-41ee-4c91-8d7d-40b0bd5edd5b"
      },
      "execution_count": 3,
      "outputs": [
        {
          "output_type": "execute_result",
          "data": {
            "text/plain": [
              "(150, 4)"
            ]
          },
          "metadata": {},
          "execution_count": 3
        }
      ]
    },
    {
      "cell_type": "code",
      "source": [
        "# Y data는 One-hot encoding\n",
        "from tensorflow.keras.utils import to_categorical\n",
        "Y_onehot = to_categorical(iris.target) # 2차원 데이터이기때문에 Y를 대문자로 표기\n",
        "Y_onehot[:5] "
      ],
      "metadata": {
        "colab": {
          "base_uri": "https://localhost:8080/"
        },
        "id": "xoyyUkCCkfHD",
        "outputId": "47738a85-379d-4f14-ae82-543d3e0e5d77"
      },
      "execution_count": 4,
      "outputs": [
        {
          "output_type": "execute_result",
          "data": {
            "text/plain": [
              "array([[1., 0., 0.],\n",
              "       [1., 0., 0.],\n",
              "       [1., 0., 0.],\n",
              "       [1., 0., 0.],\n",
              "       [1., 0., 0.]], dtype=float32)"
            ]
          },
          "metadata": {},
          "execution_count": 4
        }
      ]
    },
    {
      "cell_type": "code",
      "source": [
        "from sklearn.model_selection import train_test_split\n",
        "X_train, X_test, Y_train, Y_test = train_test_split(\n",
        "    X_scaled, Y_onehot, stratify=Y_onehot, test_size=0.2, random_state=seed\n",
        ")\n",
        "X_train.shape, X_test.shape, Y_train.shape, Y_test.shape"
      ],
      "metadata": {
        "colab": {
          "base_uri": "https://localhost:8080/"
        },
        "id": "L7a5uhQ0kzgi",
        "outputId": "7ca4fbd7-c328-47eb-d859-2352b266e63b"
      },
      "execution_count": 8,
      "outputs": [
        {
          "output_type": "execute_result",
          "data": {
            "text/plain": [
              "((120, 4), (30, 4), (120, 3), (30, 3))"
            ]
          },
          "metadata": {},
          "execution_count": 8
        }
      ]
    },
    {
      "cell_type": "markdown",
      "source": [
        "- 모델 정의/설정/학습/평가"
      ],
      "metadata": {
        "id": "PbLe_xeAloh4"
      }
    },
    {
      "cell_type": "code",
      "source": [
        "from tensorflow.keras.models import Sequential\n",
        "from tensorflow.keras.layers import Dense"
      ],
      "metadata": {
        "id": "ldGn6YErmBy9"
      },
      "execution_count": 9,
      "outputs": []
    },
    {
      "cell_type": "code",
      "source": [
        "model = Sequential([\n",
        "    Dense(16, input_dim=4, activation='relu'), # Hidden Layer\n",
        "    Dense(3, activation='softmax')             # Output Layer\n",
        "])\n",
        "model.summary()"
      ],
      "metadata": {
        "colab": {
          "base_uri": "https://localhost:8080/"
        },
        "id": "sCFM_QesmJN8",
        "outputId": "b85f075f-eb47-41a6-d82b-ca1479b1d5c2"
      },
      "execution_count": 10,
      "outputs": [
        {
          "output_type": "stream",
          "name": "stdout",
          "text": [
            "Model: \"sequential\"\n",
            "_________________________________________________________________\n",
            " Layer (type)                Output Shape              Param #   \n",
            "=================================================================\n",
            " dense (Dense)               (None, 16)                80        \n",
            "                                                                 \n",
            " dense_1 (Dense)             (None, 3)                 51        \n",
            "                                                                 \n",
            "=================================================================\n",
            "Total params: 131\n",
            "Trainable params: 131\n",
            "Non-trainable params: 0\n",
            "_________________________________________________________________\n"
          ]
        }
      ]
    },
    {
      "cell_type": "code",
      "source": [
        "model.compile(\n",
        "    optimizer='adam',\n",
        "    loss='categorical_crossentropy',        # 다중 분류시 오차 함수\n",
        "    metrics=['accuracy']\n",
        ")"
      ],
      "metadata": {
        "id": "trXOxhsJqyTj"
      },
      "execution_count": 11,
      "outputs": []
    },
    {
      "cell_type": "code",
      "source": [
        "history = model.fit(\n",
        "    X_train, Y_train, validation_split = 0.2, batch_size=50, epochs=200, verbose=0\n",
        ")"
      ],
      "metadata": {
        "id": "-2k9VYhwrTnp"
      },
      "execution_count": 12,
      "outputs": []
    },
    {
      "cell_type": "code",
      "source": [
        "model.evaluate(X_test, Y_test)"
      ],
      "metadata": {
        "colab": {
          "base_uri": "https://localhost:8080/"
        },
        "id": "ePi-FJQLrpnp",
        "outputId": "37b312cc-6880-45b9-e6f2-c90246ef795e"
      },
      "execution_count": 13,
      "outputs": [
        {
          "output_type": "stream",
          "name": "stdout",
          "text": [
            "1/1 [==============================] - 0s 15ms/step - loss: 0.2548 - accuracy: 0.9333\n"
          ]
        },
        {
          "output_type": "execute_result",
          "data": {
            "text/plain": [
              "[0.2547621726989746, 0.9333333373069763]"
            ]
          },
          "metadata": {},
          "execution_count": 13
        }
      ]
    },
    {
      "cell_type": "markdown",
      "source": [
        "- 모델 저장/로드"
      ],
      "metadata": {
        "id": "RUPRqvZTr7R2"
      }
    },
    {
      "cell_type": "code",
      "source": [
        "!mkdir model"
      ],
      "metadata": {
        "id": "Wjwx_vamsfEk"
      },
      "execution_count": 14,
      "outputs": []
    },
    {
      "cell_type": "code",
      "source": [
        "model.save('model/iris.h5')"
      ],
      "metadata": {
        "id": "UpCFnRk7syQh"
      },
      "execution_count": 15,
      "outputs": []
    },
    {
      "cell_type": "code",
      "source": [
        "from tensorflow.keras.models import load_model\n",
        "my_model = load_model('model/iris.h5')"
      ],
      "metadata": {
        "id": "isK2Rb0htGsT"
      },
      "execution_count": 17,
      "outputs": []
    },
    {
      "cell_type": "code",
      "source": [
        "my_model.evaluate(X_test, Y_test)"
      ],
      "metadata": {
        "colab": {
          "base_uri": "https://localhost:8080/"
        },
        "id": "McVZ1EkytI2S",
        "outputId": "73cfe7ee-1dec-45da-f9ea-3f46029a1e3f"
      },
      "execution_count": 18,
      "outputs": [
        {
          "output_type": "stream",
          "name": "stdout",
          "text": [
            "1/1 [==============================] - 0s 93ms/step - loss: 0.2548 - accuracy: 0.9333\n"
          ]
        },
        {
          "output_type": "execute_result",
          "data": {
            "text/plain": [
              "[0.2547621726989746, 0.9333333373069763]"
            ]
          },
          "metadata": {},
          "execution_count": 18
        }
      ]
    },
    {
      "cell_type": "markdown",
      "source": [
        "- 학습과정 시각화"
      ],
      "metadata": {
        "id": "rq4TRNrduCYm"
      }
    },
    {
      "cell_type": "code",
      "source": [
        "import matplotlib.pyplot as plt"
      ],
      "metadata": {
        "id": "r3oeXUBduv7c"
      },
      "execution_count": 21,
      "outputs": []
    },
    {
      "cell_type": "code",
      "source": [
        "y_acc = history.history['accuracy']\n",
        "y_vloss = history.history['val_loss']\n",
        "xs = np.arange(1,len(y_acc)+1)"
      ],
      "metadata": {
        "id": "YbUW6m_Nu7u6"
      },
      "execution_count": 22,
      "outputs": []
    },
    {
      "cell_type": "code",
      "source": [
        "plt.figure(figsize=(12,8))\n",
        "plt.plot(xs, y_acc, ms=5, label='train accuracy')\n",
        "plt.plot(xs, y_vloss, ms=5, label='validation loss')\n",
        "plt.legend()\n",
        "plt.grid()\n",
        "plt.xlabel('Epoch')\n",
        "plt.show()"
      ],
      "metadata": {
        "colab": {
          "base_uri": "https://localhost:8080/",
          "height": 444
        },
        "id": "yn3peg8KvRi5",
        "outputId": "8707664f-eeb9-4860-df7e-910127998ea6"
      },
      "execution_count": 24,
      "outputs": [
        {
          "output_type": "display_data",
          "data": {
            "image/png": "[encoded data removed]",
            "text/plain": [
              "<Figure size 864x576 with 1 Axes>"
            ]
          },
          "metadata": {
            "needs_background": "light"
          }
        }
      ]
    },
    {
      "cell_type": "markdown",
      "source": [
        "- Epoch 횟수를 늘려 학습해보기"
      ],
      "metadata": {
        "id": "1H_yxgwVvsPf"
      }
    },
    {
      "cell_type": "code",
      "source": [
        "model2 = Sequential([\n",
        "    Dense(16, input_dim=4, activation='relu'), # Hidden Layer\n",
        "    Dense(3, activation='softmax')             # Output Layer\n",
        "])\n",
        "model2.summary()"
      ],
      "metadata": {
        "colab": {
          "base_uri": "https://localhost:8080/"
        },
        "id": "GQAtCSalwkqu",
        "outputId": "fe50be8a-cb17-44d0-d901-542af4dbc46b"
      },
      "execution_count": 33,
      "outputs": [
        {
          "output_type": "stream",
          "name": "stdout",
          "text": [
            "Model: \"sequential_2\"\n",
            "_________________________________________________________________\n",
            " Layer (type)                Output Shape              Param #   \n",
            "=================================================================\n",
            " dense_4 (Dense)             (None, 16)                80        \n",
            "                                                                 \n",
            " dense_5 (Dense)             (None, 3)                 51        \n",
            "                                                                 \n",
            "=================================================================\n",
            "Total params: 131\n",
            "Trainable params: 131\n",
            "Non-trainable params: 0\n",
            "_________________________________________________________________\n"
          ]
        }
      ]
    },
    {
      "cell_type": "code",
      "source": [
        "model2.compile(\n",
        "    optimizer='adam',\n",
        "    loss='categorical_crossentropy',       \n",
        "    metrics=['accuracy']\n",
        ")"
      ],
      "metadata": {
        "id": "o5SHBplmwpjK"
      },
      "execution_count": 34,
      "outputs": []
    },
    {
      "cell_type": "code",
      "source": [
        "history2 = model2.fit(\n",
        "    X_train, Y_train, validation_split = 0.2, batch_size=50, epochs=2000, verbose=0\n",
        ")"
      ],
      "metadata": {
        "id": "uf5hw0S4xA48"
      },
      "execution_count": 35,
      "outputs": []
    },
    {
      "cell_type": "code",
      "source": [
        "model2.evaluate(X_test, Y_test)"
      ],
      "metadata": {
        "colab": {
          "base_uri": "https://localhost:8080/"
        },
        "id": "KnK-399vxI7K",
        "outputId": "dc7388ec-fff1-4b68-a206-639dea52671f"
      },
      "execution_count": 36,
      "outputs": [
        {
          "output_type": "stream",
          "name": "stdout",
          "text": [
            "1/1 [==============================] - 0s 16ms/step - loss: 0.1596 - accuracy: 0.9000\n"
          ]
        },
        {
          "output_type": "execute_result",
          "data": {
            "text/plain": [
              "[0.15960854291915894, 0.8999999761581421]"
            ]
          },
          "metadata": {},
          "execution_count": 36
        }
      ]
    },
    {
      "cell_type": "code",
      "source": [
        "y_acc = history2.history['accuracy']\n",
        "y_vloss = history2.history['val_loss']\n",
        "xs = np.arange(1,len(y_acc)+1)"
      ],
      "metadata": {
        "id": "A2bTK715xdLx"
      },
      "execution_count": 37,
      "outputs": []
    },
    {
      "cell_type": "code",
      "source": [
        "plt.figure(figsize=(12,8))\n",
        "plt.plot(xs, y_acc, ms=5, label='train accuracy')\n",
        "plt.plot(xs, y_vloss, ms=5, label='validation loss')\n",
        "plt.legend()\n",
        "plt.grid()\n",
        "plt.xlabel('Epoch')\n",
        "plt.show()"
      ],
      "metadata": {
        "colab": {
          "base_uri": "https://localhost:8080/",
          "height": 443
        },
        "id": "y7W8EoIOxxPQ",
        "outputId": "0f4da090-20a1-4fcf-9d18-9f2aa6d0b360"
      },
      "execution_count": 38,
      "outputs": [
        {
          "output_type": "display_data",
          "data": {
            "image/png": "[encoded data removed]",
            "text/plain": [
              "<Figure size 864x576 with 1 Axes>"
            ]
          },
          "metadata": {
            "needs_background": "light"
          }
        }
      ]
    },
    {
      "cell_type": "code",
      "source": [
        "del model2"
      ],
      "metadata": {
        "id": "V6fDbZ79xzfH"
      },
      "execution_count": 32,
      "outputs": []
    },
    {
      "cell_type": "code",
      "source": [
        ""
      ],
      "metadata": {
        "id": "EQ1pqxHix9mm"
      },
      "execution_count": null,
      "outputs": []
    }
  ]
}